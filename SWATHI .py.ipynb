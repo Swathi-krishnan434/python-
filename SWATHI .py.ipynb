{
 "cells": [
  {
   "cell_type": "code",
   "execution_count": 2,
   "id": "2048b735",
   "metadata": {},
   "outputs": [
    {
     "name": "stdout",
     "output_type": "stream",
     "text": [
      "Enter the number of digits:4\n",
      "Enter a 4-digit integer:1234\n",
      "1\n",
      "2\n",
      "3\n",
      "4\n",
      "Please enter a 0-digit integer:\n"
     ]
    }
   ],
   "source": [
    "n=int(input(\"Enter the number of digits:\"))\n",
    "if n>0:\n",
    "      \n",
    "        number=int(input(f\"Enter a {n}-digit integer:\"))\n",
    "if number>=10**(n-1) and number <10**n:\n",
    "    for i in range(n):\n",
    "        digit=number//(10**(n-1))\n",
    "        print(digit)\n",
    "        number%=10**(n-1)\n",
    "        n-=1\n",
    "    else:\n",
    "        print(f\"Please enter a {n}-digit integer:\")\n",
    "else:\n",
    "    print(f\"Please enter a valid number  of digits(grater than zero):\")"
   ]
  },
  {
   "cell_type": "code",
   "execution_count": 3,
   "id": "93b3ca84",
   "metadata": {},
   "outputs": [
    {
     "name": "stdout",
     "output_type": "stream",
     "text": [
      "Enter the first number:10\n",
      "Enter the second number:5\n",
      "Enter the third number:7\n",
      "Enter the fourth number:2\n",
      "The sorted numbers are 2 5 7 10\n"
     ]
    }
   ],
   "source": [
    "a=int(input(\"Enter the first number:\"))\n",
    "b=int(input(\"Enter the second number:\"))\n",
    "c=int(input(\"Enter the third number:\"))\n",
    "d=int(input(\"Enter the fourth number:\"))\n",
    "if a>b :a,b=b,a\n",
    "if c>d :c,d=d,c\n",
    "if a>c :a,c=c,a\n",
    "if b>d :b,d=d,b\n",
    "if b>c :b,c=c,b\n",
    "print(\"The sorted numbers are\",a,b,c,d)\n"
   ]
  },
  {
   "cell_type": "markdown",
   "id": "e6ecfdd1",
   "metadata": {},
   "source": [
    "# Experiment no 3\n",
    "## Develop a python progarm for checking if a given n digit number is palindrome or not .\n"
   ]
  },
  {
   "cell_type": "code",
   "execution_count": 4,
   "id": "f959b04f",
   "metadata": {},
   "outputs": [
    {
     "name": "stdout",
     "output_type": "stream",
     "text": [
      "Enter an n-digit number:1221\n",
      "Palindrome\n"
     ]
    }
   ],
   "source": [
    "\n",
    "number=int(input(\"Enter an n-digit number:\"))\n",
    "original_number=number\n",
    "reversed_number=0\n",
    "while number>0:\n",
    "            digit=number%10\n",
    "            reversed_number=reversed_number*10+digit\n",
    "            number//=10\n",
    "if original_number==reversed_number:\n",
    "                 print(\"Palindrome\")\n",
    "else:\n",
    "             print(\"not palindrome\")"
   ]
  },
  {
   "cell_type": "markdown",
   "id": "36f6a773",
   "metadata": {},
   "source": [
    "# Experiment no 4"
   ]
  },
  {
   "cell_type": "code",
   "execution_count": 5,
   "id": "73449282",
   "metadata": {},
   "outputs": [
    {
     "name": "stdout",
     "output_type": "stream",
     "text": [
      "Enter an integer for the multiplication table:10\n",
      "multiplication table for 10:\n",
      "10*1=10\n",
      "10*2=20\n",
      "10*3=30\n",
      "10*4=40\n",
      "10*5=50\n",
      "10*6=60\n",
      "10*7=70\n",
      "10*8=80\n",
      "10*9=90\n",
      "10*10=100\n"
     ]
    }
   ],
   "source": [
    "n=int(input(\"Enter an integer for the multiplication table:\"))\n",
    "print(f\"multiplication table for {n}:\")\n",
    "for i in range(1,11):\n",
    "    result=n*i\n",
    "    print(f\"{n}*{i}={result}\")"
   ]
  },
  {
   "cell_type": "code",
   "execution_count": null,
   "id": "1a808079",
   "metadata": {},
   "outputs": [],
   "source": []
  }
 ],
 "metadata": {
  "kernelspec": {
   "display_name": "Python 3 (ipykernel)",
   "language": "python",
   "name": "python3"
  },
  "language_info": {
   "codemirror_mode": {
    "name": "ipython",
    "version": 3
   },
   "file_extension": ".py",
   "mimetype": "text/x-python",
   "name": "python",
   "nbconvert_exporter": "python",
   "pygments_lexer": "ipython3",
   "version": "3.10.9"
  }
 },
 "nbformat": 4,
 "nbformat_minor": 5
}
