{
 "cells": [
  {
   "cell_type": "code",
   "execution_count": 1,
   "id": "0659e6cd",
   "metadata": {},
   "outputs": [
    {
     "name": "stdout",
     "output_type": "stream",
     "text": [
      "enter the number of digits:3\n",
      "enter a 3-digit integer:567\n",
      "5\n",
      "6\n",
      "7\n"
     ]
    }
   ],
   "source": [
    "n=int(input(\"enter the number of digits:\"))\n",
    "if n>0:\n",
    "    number=int(input(f\"enter a {n}-digit integer:\"))\n",
    "    if number>=10**(n-1) and number<10**n:\n",
    "        for i in range (n):\n",
    "            digit=number//(10**(n-1))\n",
    "            print(digit)\n",
    "            number%=10**(n-1)\n",
    "            n-=1\n",
    "    else:\n",
    "        print(f\"please enter a {n}-digit integer\")\n",
    "else:\n",
    "    print(\"please enter a valid number of digits (greater than 0).\")"
   ]
  },
  {
   "cell_type": "code",
   "execution_count": 2,
   "id": "f0e66e8a",
   "metadata": {},
   "outputs": [
    {
     "name": "stdout",
     "output_type": "stream",
     "text": [
      "enter the first number:4\n",
      "enter the second number:6\n",
      "enter the third number:8\n",
      "enter the fourth number:9\n",
      "the sorted numbers are : 9 8 6 4\n"
     ]
    }
   ],
   "source": [
    "a=int(input(\"enter the first number:\"))\n",
    "b=int(input(\"enter the second number:\"))\n",
    "c=int(input(\"enter the third number:\"))\n",
    "d=int(input(\"enter the fourth number:\"))\n",
    "if a<b:a,b=b,a\n",
    "if c<d:c,d=d,c\n",
    "if a<c:a,c=c,a\n",
    "if b<d:b,d=d,b\n",
    "if b<c:b,c=c,b\n",
    "print(\"the sorted numbers are :\",a,b,c,d)"
   ]
  },
  {
   "cell_type": "code",
   "execution_count": 3,
   "id": "503c1091",
   "metadata": {},
   "outputs": [
    {
     "name": "stdout",
     "output_type": "stream",
     "text": [
      "enter an n-digit number:123\n",
      "not a palindrome\n"
     ]
    }
   ],
   "source": [
    "number=int(input(\"enter an n-digit number:\"))\n",
    "original_number=number\n",
    "reversed_number=0\n",
    "while number>0:\n",
    "    digit=number%10\n",
    "    reversed_number=reversed_number*10+digit\n",
    "    number//=10\n",
    "if original_number==reversed_number:\n",
    "    print(\"palindrome\")\n",
    "else:\n",
    "    print(\"not a palindrome\")"
   ]
  },
  {
   "cell_type": "code",
   "execution_count": 12,
   "id": "8cbd810a",
   "metadata": {},
   "outputs": [
    {
     "name": "stdout",
     "output_type": "stream",
     "text": [
      "enter an integer for the multiplication table:5\n",
      "multiplication table for 5:\n",
      "5*1=5\n",
      "5*2=10\n",
      "5*3=15\n",
      "5*4=20\n",
      "5*5=25\n",
      "5*6=30\n",
      "5*7=35\n",
      "5*8=40\n",
      "5*9=45\n",
      "5*10=50\n"
     ]
    }
   ],
   "source": [
    "n=int(input(\"enter an integer for the multiplication table:\"))\n",
    "print(f\"multiplication table for {n}:\")\n",
    "for i  in range (1,11):\n",
    "    result=n*i\n",
    "    print(f\"{n}*{i}={result}\")"
   ]
  },
  {
   "cell_type": "code",
   "execution_count": 5,
   "id": "e8bfd0ed",
   "metadata": {},
   "outputs": [
    {
     "name": "stdout",
     "output_type": "stream",
     "text": [
      "enter the number of elements:6\n",
      "enter numbers1:7\n",
      "enter numbers2:4\n",
      "enter numbers3:12\n",
      "enter numbers4:12\n",
      "enter numbers5:5\n",
      "enter numbers6:6\n",
      "mean:7.666666666666667\n",
      "median:6.5\n",
      "mode:[12]\n",
      "sample variance:12.266666666666666\n",
      "population variance:10.222222222222221\n",
      "sample standard deviation:3.5023801430836525\n",
      "population standard deviation:3.197221015541813\n"
     ]
    }
   ],
   "source": [
    "n=int(input(\"enter the number of elements:\"))\n",
    "numbers=[int(input(f\"enter numbers{i+1}:\"))for i in range(n)]\n",
    "mean=sum(numbers)/n\n",
    "numbers.sort()\n",
    "if n%2==0:\n",
    "    median=(numbers[n//2-1]+numbers[n//2])/2\n",
    "else:\n",
    "    median=numbers[n//2]\n",
    "frequency={num:numbers.count(num)for num in numbers}\n",
    "max_count=max(frequency.values())\n",
    "mode=[k for k, v in frequency.items() if v==max_count]\n",
    "if len(mode)==n:\n",
    "    mode=\"No mode\"\n",
    "mean_difference_squared_sum=sum((x-mean)**2 for x in numbers)\n",
    "variance_sample=mean_difference_squared_sum/(n-1) if n>1 else 0\n",
    "variance_population=mean_difference_squared_sum/n\n",
    "std_deviation_sample=variance_sample**0.5\n",
    "std_deviation_population=variance_population**0.5\n",
    "print(f\"mean:{mean}\")\n",
    "print(f\"median:{median}\")\n",
    "print(f\"mode:{mode}\")\n",
    "print(f\"sample variance:{variance_sample}\")\n",
    "print(f\"population variance:{variance_population}\")\n",
    "print(f\"sample standard deviation:{std_deviation_sample}\")\n",
    "print(f\"population standard deviation:{std_deviation_population}\")"
   ]
  },
  {
   "cell_type": "code",
   "execution_count": 14,
   "id": "d1b96581",
   "metadata": {},
   "outputs": [
    {
     "name": "stdout",
     "output_type": "stream",
     "text": [
      "factorial of1is:\n",
      "2\n",
      "factorial of2is:\n",
      "2\n",
      "4\n",
      "factorial of3is:\n",
      "2\n",
      "4\n",
      "7\n"
     ]
    }
   ],
   "source": [
    "n=range(1,4)\n",
    "for j in n:\n",
    "    print('factorial of'+str(j)+ \"is:\")\n",
    "    mul=1\n",
    "    for i in range(1,j+1):\n",
    "        mul=mul+i\n",
    "        print(mul)"
   ]
  },
  {
   "cell_type": "code",
   "execution_count": 10,
   "id": "0c7b84e4",
   "metadata": {},
   "outputs": [
    {
     "name": "stdout",
     "output_type": "stream",
     "text": [
      "mom\n"
     ]
    }
   ],
   "source": [
    "\n",
    "\n",
    "if 0>100:\n",
    "    print(\"hello\")\n",
    "elif 100>500:\n",
    "    print(\"hey!!!!\")\n",
    "else:\n",
    "          print(\"mom\")"
   ]
  },
  {
   "cell_type": "markdown",
   "id": "9034c718",
   "metadata": {},
   "source": [
    "### Experiment no 6\n"
   ]
  },
  {
   "cell_type": "code",
   "execution_count": 6,
   "id": "6a9f1514",
   "metadata": {},
   "outputs": [
    {
     "name": "stdout",
     "output_type": "stream",
     "text": [
      "Enter the integer number:12345\n",
      "The reverse number is:54321\n"
     ]
    }
   ],
   "source": [
    "number=int(input(\"Enter the integer number:\"))\n",
    "revs_number=0\n",
    "while(number>0):\n",
    "    remainder=number%10\n",
    "    revs_number=(revs_number*10)+remainder\n",
    "    number=number//10\n",
    "print('The reverse number is:{}'.format(revs_number))    "
   ]
  },
  {
   "cell_type": "markdown",
   "id": "5bbc7cb7",
   "metadata": {},
   "source": [
    "## experiment no 7"
   ]
  },
  {
   "cell_type": "code",
   "execution_count": 3,
   "id": "78da0325",
   "metadata": {},
   "outputs": [
    {
     "ename": "NameError",
     "evalue": "name 'number_list' is not defined",
     "output_type": "error",
     "traceback": [
      "\u001b[0;31m---------------------------------------------------------------------------\u001b[0m",
      "\u001b[0;31mNameError\u001b[0m                                 Traceback (most recent call last)",
      "Cell \u001b[0;32mIn[3], line 5\u001b[0m\n\u001b[1;32m      3\u001b[0m     number_list\u001b[38;5;241m=\u001b[39m\u001b[38;5;28mlist\u001b[39m(number_str)\n\u001b[1;32m      4\u001b[0m     number_list[pos\u001b[38;5;241m-\u001b[39m\u001b[38;5;241m1\u001b[39m],number_list[pos2\u001b[38;5;241m-\u001b[39m\u001b[38;5;241m1\u001b[39m]\u001b[38;5;241m=\u001b[39mnumber_list[pos2\u001b[38;5;241m-\u001b[39m\u001b[38;5;241m1\u001b[39m],number_list[pos1\u001b[38;5;241m-\u001b[39m\u001b[38;5;241m1\u001b[39m]\n\u001b[0;32m----> 5\u001b[0m interchanged_number\u001b[38;5;241m=\u001b[39m\u001b[38;5;28mint\u001b[39m(\u001b[38;5;124m'\u001b[39m\u001b[38;5;124m'\u001b[39m\u001b[38;5;241m.\u001b[39mjoin(\u001b[43mnumber_list\u001b[49m))\n\u001b[1;32m      6\u001b[0m \u001b[38;5;28;01mreturn\u001b[39;00m interchanged_number\n\u001b[1;32m      8\u001b[0m number\u001b[38;5;241m=\u001b[39m\u001b[38;5;28mint\u001b[39m(\u001b[38;5;28minput\u001b[39m(\u001b[38;5;124m\"\u001b[39m\u001b[38;5;124mEnter the user input:\u001b[39m\u001b[38;5;124m\"\u001b[39m))\n",
      "\u001b[0;31mNameError\u001b[0m: name 'number_list' is not defined"
     ]
    }
   ],
   "source": [
    "def interchange_digits(number,pos1,pos2):\n",
    "    number_str=str(number)\n",
    "    number_list=list(number_str)\n",
    "    number_list[pos-1],number_list[pos2-1]=number_list[pos2-1],number_list[pos1-1]\n",
    "interchanged_number=int(''.join(number_list))\n",
    "return interchanged_number\n",
    "\n",
    "number=int(input(\"Enter the user input:\"))\n",
    "pos1=int(input(\"Enter the 1st position which you want to swap:\"))\n",
    "pos2=int(input(\"Enter the 2st position which you want to swap:\"))\n",
    "interchanged_number=interchange_digits(number,pos1,pos2)\n",
    "print(\"Original number:\",number)\n",
    "print('Interchanged number:',interchanged_number)\n"
   ]
  },
  {
   "cell_type": "code",
   "execution_count": 9,
   "id": "2a584668",
   "metadata": {},
   "outputs": [
    {
     "name": "stdout",
     "output_type": "stream",
     "text": [
      "enter the user input:2356\n",
      "enter the 1st person which you want to swap:0\n",
      "enter the 2nd person which you want to swap:1\n",
      "original number : 2356\n",
      "interchanged number: 6352\n"
     ]
    }
   ],
   "source": [
    "def interchange_digits(number,pos1,pos2):\n",
    "    number_str=str(number)\n",
    "    number_list=list(number_str)\n",
    "    number_list[pos1-1],number_list[pos2-1]=number_list[pos2-1],number_list[pos1-1]\n",
    "    interchanged_number=int(''.join(number_list))\n",
    "    return interchanged_number\n",
    "number=int(input('enter the user input:'))\n",
    "pos1=int(input('enter the 1st person which you want to swap:'))\n",
    "pos2=int(input('enter the 2nd person which you want to swap:'))\n",
    "interchanged_number=interchange_digits(number,pos1,pos2)\n",
    "print('original number :',number)\n",
    "print('interchanged number:',interchanged_number)"
   ]
  },
  {
   "cell_type": "markdown",
   "id": "99e39f1a",
   "metadata": {},
   "source": [
    "## Experiment no 8"
   ]
  },
  {
   "cell_type": "code",
   "execution_count": 12,
   "id": "d0dc76da",
   "metadata": {},
   "outputs": [
    {
     "name": "stdout",
     "output_type": "stream",
     "text": [
      "['Hello', 'Good', 'How', 'Simple']\n"
     ]
    }
   ],
   "source": [
    "def capitalize_strings(string_list):\n",
    "    return[s.capitalize() for s in string_list]\n",
    "input_strings=['hello','good','how','simple']\n",
    "capitalized_strings=capitalize_strings(input_strings)\n",
    "print(capitalized_strings)\n"
   ]
  },
  {
   "cell_type": "markdown",
   "id": "d15a83fe",
   "metadata": {},
   "source": [
    "## Experiment no 9"
   ]
  },
  {
   "cell_type": "code",
   "execution_count": 18,
   "id": "56890f13",
   "metadata": {},
   "outputs": [
    {
     "name": "stdout",
     "output_type": "stream",
     "text": [
      "enter a sentence:big duck fell into the black pool.big duck died becuase of the black pool.\n",
      "Duplicate words and their counts:\n",
      "duck:2\n",
      "the:2\n",
      "black:2\n",
      "No duplicate words found\n"
     ]
    }
   ],
   "source": [
    "def count_duplicate_words(sentence):\n",
    "    words=sentence.split()\n",
    "    word_count={}\n",
    "    for word in words:\n",
    "        word=word.lower()\n",
    "        if word in word_count:\n",
    "            word_count[word]+=1\n",
    "        else:\n",
    "            word_count[word]=1\n",
    "    duplicates={word:count for word,count in word_count.items()if count>1}\n",
    "    if duplicates:\n",
    "        print(\"Duplicate words and their counts:\")\n",
    "    for word,count in duplicates.items():\n",
    "        print(f\"{word}:{count}\")\n",
    "    else:\n",
    "        print(\"No duplicate words found\")\n",
    "sentence=input(\"enter a sentence:\")\n",
    "count_duplicate_words(sentence)\n"
   ]
  },
  {
   "cell_type": "code",
   "execution_count": null,
   "id": "eb8b867c",
   "metadata": {},
   "outputs": [],
   "source": []
  }
 ],
 "metadata": {
  "kernelspec": {
   "display_name": "Python 3 (ipykernel)",
   "language": "python",
   "name": "python3"
  },
  "language_info": {
   "codemirror_mode": {
    "name": "ipython",
    "version": 3
   },
   "file_extension": ".py",
   "mimetype": "text/x-python",
   "name": "python",
   "nbconvert_exporter": "python",
   "pygments_lexer": "ipython3",
   "version": "3.10.9"
  }
 },
 "nbformat": 4,
 "nbformat_minor": 5
}
